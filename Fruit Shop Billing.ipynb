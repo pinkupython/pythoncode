{
 "cells": [
  {
   "cell_type": "code",
   "execution_count": 2,
   "id": "e302d31b",
   "metadata": {},
   "outputs": [
    {
     "name": "stdout",
     "output_type": "stream",
     "text": [
      "|Customer Name:|2\n",
      "--------------------------------------------------\n",
      "|              Welcome to our store              |\n",
      "--------------------------------------------------\n",
      "|              This is our products              |\n",
      "--------------------------------------------------\n",
      "|    1     |            Orange            | 30₹  |\n",
      "|    2     |            Apple             | 120₹ |\n",
      "|    3     |            Grape             | 80₹  |\n",
      "|    4     |            Banana            | 25₹  |\n",
      "--------------------------------------------------\n",
      "How many things do you want to buy: 2\n",
      "--------------------------------------------------\n",
      "|                   YOUR ORDER                   |\n",
      "--------------------------------------------------\n",
      "What do you want to buy: APPLE\n",
      "--------------------------------------------------\n",
      "How many of that do you want to buy: 8\n",
      "--------------------------------------------------\n",
      "Apple          8           960₹\n",
      "--------------------------------------------------\n",
      "What do you want to buy: BANANA\n",
      "--------------------------------------------------\n",
      "How many of that do you want to buy: 8\n",
      "--------------------------------------------------\n",
      "Banana         8           200₹\n",
      "--------------------------------------------------\n",
      "Total:         16        1160₹\n",
      "--------------------------------------------------\n",
      "|            THANKY YOU FOR SHOPPING             |\n",
      "--------------------------------------------------\n"
     ]
    }
   ],
   "source": [
    "customer = str(input(f\"|{'Customer Name:':}|\"))\n",
    "print(f\"-\"*50, end = '\\n')\n",
    "print (f\"|{'Welcome to our store':^48}|\")\n",
    "print(f\"-\"*50, end = '\\n')\n",
    "print (f\"|{'This is our products':^48}|\")\n",
    "print(f\"-\"*50)\n",
    "proudct_code = [1,2,3,4]\n",
    "proudct = [\"Orange\",\"Apple\",\"Grape\",\"Banana\" ]\n",
    "price = [\"30₹\", \"120₹\", \"80₹\", \"25₹\"]\n",
    "a = 0\n",
    "while a<len(proudct):\n",
    "    print(f\"|{proudct_code[a]:^10}|{proudct[a]:^30}|{price[a]:^6}|\")\n",
    "    a+=1\n",
    "print(f\"-\"*50, end = '\\n')\n",
    "\n",
    "prices = {\"orange\":30,\"apple\":120,\"grape\":80,\"banana\":25}\n",
    "productnum = input(\"How many things do you want to buy: \") \n",
    "while not productnum.isdigit():\n",
    "    productnum = input(\"How many different products do you want to buy: \")\n",
    "productnum = int(productnum)\n",
    "totalprice = 0\n",
    "totalfruit = 0\n",
    "print(f\"-\"*50, end = '\\n')\n",
    "print(f\"|{'YOUR ORDER':^48}|\")\n",
    "print(f\"-\"*50, end = '\\n')\n",
    "for i in range(productnum):\n",
    "    chosenproduct = input(\"What do you want to buy: \").lower()\n",
    "    print(f\"-\"*50, end = '\\n')\n",
    "    while not chosenproduct in ['orange','apple','banana','grape']:\n",
    "        chosenproduct = input(\"What do you want to buy: \").lower()\n",
    "        print(f\"-\"*50, end = '\\n')\n",
    "    fruitnum = input(\"How many of that do you want to buy: \")\n",
    "    print(f\"-\"*50, end = '\\n')\n",
    "    while not fruitnum.isdigit():\n",
    "        fruitnum = input(\"How many of that do you want to buy: \")\n",
    "        print(f\"-\"*50, end = '\\n')\n",
    "    fruitnum = int(fruitnum)\n",
    "    totalfruit += fruitnum\n",
    "    price = fruitnum * prices[chosenproduct]\n",
    "    totalprice += price\n",
    "    startspaces = ' ' * (15 - len(chosenproduct))\n",
    "    endspaces = ' ' * (12 - len(str(fruitnum)))\n",
    "    print(chosenproduct.capitalize() + startspaces + str(fruitnum) + endspaces + str(price) + '₹')\n",
    "    print(f\"-\"*50, end = '\\n')\n",
    "\n",
    "print('Total:' + startspaces + str(totalfruit) + ' ' * (12 - len(str(totalprice))) + str(totalprice) + '₹')\n",
    "print(f\"-\"*50, end = '\\n')\n",
    "print(f\"|{'THANKY YOU FOR SHOPPING':^48}|\")\n",
    "print(f\"-\"*50, end = '\\n')"
   ]
  },
  {
   "cell_type": "code",
   "execution_count": null,
   "id": "02e0a3bb",
   "metadata": {},
   "outputs": [],
   "source": []
  },
  {
   "cell_type": "code",
   "execution_count": null,
   "id": "d950df67",
   "metadata": {},
   "outputs": [],
   "source": []
  },
  {
   "cell_type": "code",
   "execution_count": null,
   "id": "7d7cc577",
   "metadata": {},
   "outputs": [],
   "source": []
  },
  {
   "cell_type": "code",
   "execution_count": null,
   "id": "f0123a64",
   "metadata": {},
   "outputs": [],
   "source": []
  },
  {
   "cell_type": "code",
   "execution_count": null,
   "id": "e196062b",
   "metadata": {},
   "outputs": [],
   "source": []
  },
  {
   "cell_type": "code",
   "execution_count": null,
   "id": "bf349076",
   "metadata": {},
   "outputs": [],
   "source": []
  }
 ],
 "metadata": {
  "kernelspec": {
   "display_name": "Python 3 (ipykernel)",
   "language": "python",
   "name": "python3"
  },
  "language_info": {
   "codemirror_mode": {
    "name": "ipython",
    "version": 3
   },
   "file_extension": ".py",
   "mimetype": "text/x-python",
   "name": "python",
   "nbconvert_exporter": "python",
   "pygments_lexer": "ipython3",
   "version": "3.11.5"
  }
 },
 "nbformat": 4,
 "nbformat_minor": 5
}
